{
 "cells": [
  {
   "cell_type": "code",
   "execution_count": 58,
   "id": "ba0f2d1e",
   "metadata": {},
   "outputs": [],
   "source": [
    "import numpy "
   ]
  },
  {
   "cell_type": "markdown",
   "id": "d6370fa0",
   "metadata": {},
   "source": [
    "## 1. Create a null vector of size 10 but the fifth value which is 1"
   ]
  },
  {
   "cell_type": "markdown",
   "id": "a3752f09",
   "metadata": {},
   "source": [
    "### Method 1"
   ]
  },
  {
   "cell_type": "code",
   "execution_count": 65,
   "id": "93d279a6",
   "metadata": {},
   "outputs": [
    {
     "name": "stdout",
     "output_type": "stream",
     "text": [
      "[0 0 0 0 1 0 0 0 0 0]\n"
     ]
    }
   ],
   "source": [
    "x=np.zeros(10,dtype=int)\n",
    "x[4]=1\n",
    "print(x)"
   ]
  },
  {
   "cell_type": "markdown",
   "id": "b7104da3",
   "metadata": {},
   "source": [
    "### Method 2"
   ]
  },
  {
   "cell_type": "code",
   "execution_count": 49,
   "id": "2e5321e7",
   "metadata": {},
   "outputs": [
    {
     "data": {
      "text/plain": [
       "array([0, 0, 0, 0, 1, 0, 0, 0, 0, 0])"
      ]
     },
     "execution_count": 49,
     "metadata": {},
     "output_type": "execute_result"
    }
   ],
   "source": [
    "(np.arange(10) == 4).astype(int)"
   ]
  },
  {
   "cell_type": "markdown",
   "id": "36ba3e7f",
   "metadata": {},
   "source": [
    "## 2. Create a vector with values ranging from 10 to 49."
   ]
  },
  {
   "cell_type": "code",
   "execution_count": 50,
   "id": "9d2b28d6",
   "metadata": {},
   "outputs": [
    {
     "data": {
      "text/plain": [
       "array([10, 11, 12, 13, 14, 15, 16, 17, 18, 19, 20, 21, 22, 23, 24, 25, 26,\n",
       "       27, 28, 29, 30, 31, 32, 33, 34, 35, 36, 37, 38, 39, 40, 41, 42, 43,\n",
       "       44, 45, 46, 47, 48, 49])"
      ]
     },
     "execution_count": 50,
     "metadata": {},
     "output_type": "execute_result"
    }
   ],
   "source": [
    "np.arange(10,50)"
   ]
  },
  {
   "cell_type": "markdown",
   "id": "a590dd09",
   "metadata": {},
   "source": [
    "## 3. Create a 3x3 matrix with values ranging from 0 to 8."
   ]
  },
  {
   "cell_type": "code",
   "execution_count": 51,
   "id": "f002d5a8",
   "metadata": {},
   "outputs": [
    {
     "data": {
      "text/plain": [
       "array([[0, 2, 0],\n",
       "       [5, 3, 6],\n",
       "       [5, 1, 6]])"
      ]
     },
     "execution_count": 51,
     "metadata": {},
     "output_type": "execute_result"
    }
   ],
   "source": [
    "np.random.randint(low=0,high=9,size=(3,3))"
   ]
  },
  {
   "cell_type": "markdown",
   "id": "e6d688be",
   "metadata": {},
   "source": [
    "## 4. Find indices of non-zero elements from [1,2,0,0,4,0]."
   ]
  },
  {
   "cell_type": "code",
   "execution_count": 52,
   "id": "890e3769",
   "metadata": {},
   "outputs": [
    {
     "name": "stdout",
     "output_type": "stream",
     "text": [
      "(array([0, 1, 4], dtype=int64),)\n"
     ]
    }
   ],
   "source": [
    "vec= np.array([1,2,0,0,4,0])\n",
    "k=np.nonzero(vec != 0)\n",
    "print(k)"
   ]
  },
  {
   "cell_type": "markdown",
   "id": "5af5da20",
   "metadata": {},
   "source": [
    "## 5. Create a 10x10 array with random values and find the minimum and maximum values."
   ]
  },
  {
   "cell_type": "code",
   "execution_count": 53,
   "id": "26b71b23",
   "metadata": {},
   "outputs": [
    {
     "name": "stdout",
     "output_type": "stream",
     "text": [
      "[[-1.4329757  -0.47611927  0.35784653 -0.37196931 -1.1302149  -0.40570675\n",
      "  -0.47718791  0.12518362  1.34728643 -0.41262745]\n",
      " [ 2.88057873 -0.24313153 -0.84417094  1.46893693 -0.73455542 -0.96907047\n",
      "   0.52259463  0.71511325 -0.81463819  0.54946878]\n",
      " [-1.05993088  0.61549112 -1.70742131 -0.25134905 -2.69197354  1.4543354\n",
      "   1.39133024 -0.27123755 -1.53701121  0.85664863]\n",
      " [ 2.05368478  0.8905343   0.24407597  0.19373415 -1.71213373  0.04692102\n",
      "  -1.67543474  0.26181469  0.66405606  0.25649493]\n",
      " [-0.79349143  2.04202614 -0.28564    -0.77962569 -1.37859566  0.52295662\n",
      "  -0.77410576 -0.4248941  -0.74328281 -0.61064202]\n",
      " [ 0.04997368  0.01031816 -0.30437282 -0.1390962  -1.39382119 -0.39698502\n",
      "  -1.99107486  0.22389562  1.37593063  1.55426991]\n",
      " [-1.30237473  0.60868058 -1.41845072  0.39119237 -0.95246904  1.17873526\n",
      "   2.35172243 -1.05038009 -1.0608264  -0.05142156]\n",
      " [-0.47872643  1.96722748  0.60105428  0.02428828 -0.14606056  0.6298758\n",
      "  -0.90274878 -0.95020163  2.33063718  1.09757298]\n",
      " [-0.01291245  1.4112916   0.82384588  0.79549702  2.13492034  0.79023962\n",
      "   0.11192104 -0.04018486 -0.48747757 -0.3309336 ]\n",
      " [-0.26604927  0.48496247  0.88692608  1.78409211 -0.52836042 -0.57940547\n",
      "   1.14772654 -0.81459234  0.49459615 -0.43006176]]\n",
      "Minimum value :  -2.691973540714299\n",
      "Maximum value :  2.880578732822527\n"
     ]
    }
   ],
   "source": [
    "arr=np.random.randn(10,10)\n",
    "print(arr)\n",
    "min_=arr.min()\n",
    "print(\"Minimum value : \",min_)\n",
    "max_=arr.max()\n",
    "print(\"Maximum value : \",max_)\n"
   ]
  },
  {
   "cell_type": "markdown",
   "id": "dd492494",
   "metadata": {},
   "source": [
    "## 6. Create a random vector of size 30 and find the mean value."
   ]
  },
  {
   "cell_type": "code",
   "execution_count": 55,
   "id": "f88ba45d",
   "metadata": {},
   "outputs": [
    {
     "name": "stdout",
     "output_type": "stream",
     "text": [
      "0.42728891611476894\n"
     ]
    }
   ],
   "source": [
    "vec=np.random.random(30)\n",
    "print(np.mean(vec))\n"
   ]
  }
 ],
 "metadata": {
  "kernelspec": {
   "display_name": "Python 3 (ipykernel)",
   "language": "python",
   "name": "python3"
  },
  "language_info": {
   "codemirror_mode": {
    "name": "ipython",
    "version": 3
   },
   "file_extension": ".py",
   "mimetype": "text/x-python",
   "name": "python",
   "nbconvert_exporter": "python",
   "pygments_lexer": "ipython3",
   "version": "3.9.7"
  }
 },
 "nbformat": 4,
 "nbformat_minor": 5
}
